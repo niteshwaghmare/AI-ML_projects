{
  "nbformat": 4,
  "nbformat_minor": 0,
  "metadata": {
    "colab": {
      "provenance": [],
      "collapsed_sections": [],
      "authorship_tag": "ABX9TyOWGn6GhsWkk9JAtC09rvqO"
    },
    "kernelspec": {
      "name": "python3",
      "display_name": "Python 3"
    },
    "language_info": {
      "name": "python"
    },
    "accelerator": "GPU"
  },
  "cells": [
    {
      "cell_type": "code",
      "execution_count": 3,
      "metadata": {
        "colab": {
          "base_uri": "https://localhost:8080/"
        },
        "id": "XyT3Pcwfi3OE",
        "outputId": "e87a8d92-27be-44ca-ba83-69f0bd34baf6"
      },
      "outputs": [
        {
          "output_type": "stream",
          "name": "stdout",
          "text": [
            "--2022-10-04 17:48:34--  https://download.microsoft.com/download/3/E/1/3E1C3F21-ECDB-4869-8368-6DEBA77B919F/kagglecatsanddogs_5340.zip\n",
            "Resolving download.microsoft.com (download.microsoft.com)... 23.77.173.59, 2600:141b:e800:148c::317f, 2600:141b:e800:1483::317f\n",
            "Connecting to download.microsoft.com (download.microsoft.com)|23.77.173.59|:443... connected.\n",
            "HTTP request sent, awaiting response... 200 OK\n",
            "Length: 824887076 (787M) [application/octet-stream]\n",
            "Saving to: ‘kagglecatsanddogs_5340.zip’\n",
            "\n",
            "kagglecatsanddogs_5 100%[===================>] 786.67M   250MB/s    in 3.1s    \n",
            "\n",
            "2022-10-04 17:48:37 (250 MB/s) - ‘kagglecatsanddogs_5340.zip’ saved [824887076/824887076]\n",
            "\n"
          ]
        }
      ],
      "source": [
        "!wget \"https://download.microsoft.com/download/3/E/1/3E1C3F21-ECDB-4869-8368-6DEBA77B919F/kagglecatsanddogs_5340.zip\""
      ]
    },
    {
      "cell_type": "code",
      "source": [
        "!unzip -q \"kagglecatsanddogs_5340.zip\""
      ],
      "metadata": {
        "id": "ZCAmmL0djEKV"
      },
      "execution_count": 4,
      "outputs": []
    },
    {
      "cell_type": "code",
      "source": [
        "import tensorflow as tf\n",
        "import numpy as np\n",
        "import matplotlib.pyplot as plt\n",
        "import pathlib\n",
        "import os\n",
        "from tqdm import tqdm"
      ],
      "metadata": {
        "id": "8yLAHp9kjzo4"
      },
      "execution_count": 5,
      "outputs": []
    },
    {
      "cell_type": "code",
      "source": [
        "len(os.listdir(\"PetImages/Dog\"))"
      ],
      "metadata": {
        "colab": {
          "base_uri": "https://localhost:8080/"
        },
        "id": "9t5atzCRkPlK",
        "outputId": "268e9d19-7d95-493e-dc4e-048a83004113"
      },
      "execution_count": 6,
      "outputs": [
        {
          "output_type": "execute_result",
          "data": {
            "text/plain": [
              "12501"
            ]
          },
          "metadata": {},
          "execution_count": 6
        }
      ]
    },
    {
      "cell_type": "code",
      "source": [
        "len(os.listdir(\"PetImages/Cat\"))"
      ],
      "metadata": {
        "colab": {
          "base_uri": "https://localhost:8080/"
        },
        "id": "MCiqoV9lkhW4",
        "outputId": "f18a8e45-e12a-4872-c3fb-948f615093c7"
      },
      "execution_count": 7,
      "outputs": [
        {
          "output_type": "execute_result",
          "data": {
            "text/plain": [
              "12501"
            ]
          },
          "metadata": {},
          "execution_count": 7
        }
      ]
    },
    {
      "cell_type": "code",
      "source": [
        "DataPath = pathlib.Path(\"PetImages\")\n",
        "all_paths = DataPath.glob(\"*/*.jpg\")\n",
        "all_paths "
      ],
      "metadata": {
        "colab": {
          "base_uri": "https://localhost:8080/"
        },
        "id": "-lNXwCq6kiFD",
        "outputId": "995b5fda-6691-43bb-daf9-7114a273ab51"
      },
      "execution_count": 8,
      "outputs": [
        {
          "output_type": "execute_result",
          "data": {
            "text/plain": [
              "<generator object Path.glob at 0x7fce2ef6e6d0>"
            ]
          },
          "metadata": {},
          "execution_count": 8
        }
      ]
    },
    {
      "cell_type": "code",
      "source": [
        "all_paths = list(all_paths)\n",
        "all_paths[:10]"
      ],
      "metadata": {
        "colab": {
          "base_uri": "https://localhost:8080/"
        },
        "id": "5LND_YiGk5J1",
        "outputId": "8bfbe2a6-1cbd-4a00-fa25-4159b1e59dcc"
      },
      "execution_count": 9,
      "outputs": [
        {
          "output_type": "execute_result",
          "data": {
            "text/plain": [
              "[PosixPath('PetImages/Cat/10997.jpg'),\n",
              " PosixPath('PetImages/Cat/4640.jpg'),\n",
              " PosixPath('PetImages/Cat/11492.jpg'),\n",
              " PosixPath('PetImages/Cat/6802.jpg'),\n",
              " PosixPath('PetImages/Cat/5920.jpg'),\n",
              " PosixPath('PetImages/Cat/6759.jpg'),\n",
              " PosixPath('PetImages/Cat/4731.jpg'),\n",
              " PosixPath('PetImages/Cat/585.jpg'),\n",
              " PosixPath('PetImages/Cat/7675.jpg'),\n",
              " PosixPath('PetImages/Cat/4788.jpg')]"
            ]
          },
          "metadata": {},
          "execution_count": 9
        }
      ]
    },
    {
      "cell_type": "code",
      "source": [
        "all_paths = list(map(lambda x: str(x), all_paths))\n",
        "all_paths[:10]"
      ],
      "metadata": {
        "colab": {
          "base_uri": "https://localhost:8080/"
        },
        "id": "yYVWFy4RlFOz",
        "outputId": "ef4409dc-9b8a-47df-ab11-7d28a0a33b65"
      },
      "execution_count": 10,
      "outputs": [
        {
          "output_type": "execute_result",
          "data": {
            "text/plain": [
              "['PetImages/Cat/10997.jpg',\n",
              " 'PetImages/Cat/4640.jpg',\n",
              " 'PetImages/Cat/11492.jpg',\n",
              " 'PetImages/Cat/6802.jpg',\n",
              " 'PetImages/Cat/5920.jpg',\n",
              " 'PetImages/Cat/6759.jpg',\n",
              " 'PetImages/Cat/4731.jpg',\n",
              " 'PetImages/Cat/585.jpg',\n",
              " 'PetImages/Cat/7675.jpg',\n",
              " 'PetImages/Cat/4788.jpg']"
            ]
          },
          "metadata": {},
          "execution_count": 10
        }
      ]
    },
    {
      "cell_type": "code",
      "source": [
        "from random import shuffle\n",
        "\n",
        "shuffle(all_paths)\n",
        "all_paths[:10]"
      ],
      "metadata": {
        "colab": {
          "base_uri": "https://localhost:8080/"
        },
        "id": "LE33tyCGlcJ4",
        "outputId": "dafa00c6-bb6c-4d82-b75d-80eb0e70b291"
      },
      "execution_count": 11,
      "outputs": [
        {
          "output_type": "execute_result",
          "data": {
            "text/plain": [
              "['PetImages/Dog/3645.jpg',\n",
              " 'PetImages/Cat/12389.jpg',\n",
              " 'PetImages/Dog/2061.jpg',\n",
              " 'PetImages/Dog/5055.jpg',\n",
              " 'PetImages/Cat/8776.jpg',\n",
              " 'PetImages/Cat/1392.jpg',\n",
              " 'PetImages/Cat/11096.jpg',\n",
              " 'PetImages/Cat/2249.jpg',\n",
              " 'PetImages/Dog/2727.jpg',\n",
              " 'PetImages/Cat/7263.jpg']"
            ]
          },
          "metadata": {},
          "execution_count": 11
        }
      ]
    },
    {
      "cell_type": "code",
      "source": [
        "def TestImageQuality(all_paths):\n",
        "  new_all_paths = []\n",
        "  for path in tqdm(all_paths):\n",
        "    try:\n",
        "      image = tf.io.read_file(path)\n",
        "      image = tf.io.decode_jpeg(image, channels = 3)\n",
        "    except:\n",
        "      continue\n",
        "    new_all_paths.append(path)\n",
        "  return new_all_paths\n",
        "\n",
        "all_paths = TestImageQuality(all_paths)\n",
        "all_paths[:10]"
      ],
      "metadata": {
        "colab": {
          "base_uri": "https://localhost:8080/"
        },
        "id": "dG1WD7cKmSDG",
        "outputId": "87793fb6-8094-427c-b40d-81cef6b51457"
      },
      "execution_count": 12,
      "outputs": [
        {
          "output_type": "stream",
          "name": "stderr",
          "text": [
            "100%|██████████| 25000/25000 [00:35<00:00, 710.15it/s]\n"
          ]
        },
        {
          "output_type": "execute_result",
          "data": {
            "text/plain": [
              "['PetImages/Dog/3645.jpg',\n",
              " 'PetImages/Cat/12389.jpg',\n",
              " 'PetImages/Dog/2061.jpg',\n",
              " 'PetImages/Dog/5055.jpg',\n",
              " 'PetImages/Cat/8776.jpg',\n",
              " 'PetImages/Cat/1392.jpg',\n",
              " 'PetImages/Cat/11096.jpg',\n",
              " 'PetImages/Cat/2249.jpg',\n",
              " 'PetImages/Dog/2727.jpg',\n",
              " 'PetImages/Cat/7263.jpg']"
            ]
          },
          "metadata": {},
          "execution_count": 12
        }
      ]
    },
    {
      "cell_type": "code",
      "source": [
        "# Getting their respective labels\n",
        "def get_label(image_path):\n",
        "  return image_path.split(\"/\")[-2]\n",
        "all_labels = list(map(lambda x: get_label(x), all_paths))\n",
        "all_labels[:10]"
      ],
      "metadata": {
        "colab": {
          "base_uri": "https://localhost:8080/"
        },
        "id": "FoSYNIlAnGMY",
        "outputId": "b696646e-0402-4ad3-a93b-818810b95278"
      },
      "execution_count": 13,
      "outputs": [
        {
          "output_type": "execute_result",
          "data": {
            "text/plain": [
              "['Dog', 'Cat', 'Dog', 'Dog', 'Cat', 'Cat', 'Cat', 'Cat', 'Dog', 'Cat']"
            ]
          },
          "metadata": {},
          "execution_count": 13
        }
      ]
    },
    {
      "cell_type": "code",
      "source": [
        "from sklearn.preprocessing import LabelEncoder\n",
        "\n",
        "Le = LabelEncoder()\n",
        "all_labels = Le.fit_transform(all_labels)\n",
        "\n",
        "all_labels[:10]"
      ],
      "metadata": {
        "colab": {
          "base_uri": "https://localhost:8080/"
        },
        "id": "qFZ7iouHnxc6",
        "outputId": "a8179939-c40e-4cc6-9b48-2e761f17416c"
      },
      "execution_count": 14,
      "outputs": [
        {
          "output_type": "execute_result",
          "data": {
            "text/plain": [
              "array([1, 0, 1, 1, 0, 0, 0, 0, 1, 0])"
            ]
          },
          "metadata": {},
          "execution_count": 14
        }
      ]
    },
    {
      "cell_type": "code",
      "source": [
        "from sklearn.model_selection import train_test_split\n",
        "Train_paths, Val_paths, Train_labels, Val_labels = train_test_split(all_paths, all_labels)"
      ],
      "metadata": {
        "id": "CC9x6s6HoOae"
      },
      "execution_count": 15,
      "outputs": []
    },
    {
      "cell_type": "code",
      "source": [
        "# Function used to decode jpeg into tensor\n",
        "def load(image, label):\n",
        "  image = tf.io.read_file(image)\n",
        "  image = tf.io.decode_jpeg(image, channels = 3)\n",
        "  return image, label"
      ],
      "metadata": {
        "id": "9tMFrQT2o10C"
      },
      "execution_count": 16,
      "outputs": []
    },
    {
      "cell_type": "code",
      "source": [
        "Train_paths[:10], Train_labels[:10]"
      ],
      "metadata": {
        "colab": {
          "base_uri": "https://localhost:8080/"
        },
        "id": "vkLkvdreonvx",
        "outputId": "c97886da-3977-4ab3-a98a-a2bf090090c8"
      },
      "execution_count": 17,
      "outputs": [
        {
          "output_type": "execute_result",
          "data": {
            "text/plain": [
              "(['PetImages/Cat/10008.jpg',\n",
              "  'PetImages/Dog/7787.jpg',\n",
              "  'PetImages/Dog/5742.jpg',\n",
              "  'PetImages/Dog/3921.jpg',\n",
              "  'PetImages/Dog/11198.jpg',\n",
              "  'PetImages/Cat/10183.jpg',\n",
              "  'PetImages/Dog/2529.jpg',\n",
              "  'PetImages/Cat/7932.jpg',\n",
              "  'PetImages/Dog/12483.jpg',\n",
              "  'PetImages/Dog/4539.jpg'],\n",
              " array([0, 1, 1, 1, 1, 0, 1, 0, 1, 1]))"
            ]
          },
          "metadata": {},
          "execution_count": 17
        }
      ]
    },
    {
      "cell_type": "code",
      "source": [
        "Val_paths[:10], Val_labels[:10]"
      ],
      "metadata": {
        "colab": {
          "base_uri": "https://localhost:8080/"
        },
        "id": "wqTHQcyU12q9",
        "outputId": "6c511f26-3f73-47fa-b7dd-d902ab8733b7"
      },
      "execution_count": 18,
      "outputs": [
        {
          "output_type": "execute_result",
          "data": {
            "text/plain": [
              "(['PetImages/Cat/583.jpg',\n",
              "  'PetImages/Dog/3292.jpg',\n",
              "  'PetImages/Dog/10506.jpg',\n",
              "  'PetImages/Dog/788.jpg',\n",
              "  'PetImages/Cat/6510.jpg',\n",
              "  'PetImages/Dog/3910.jpg',\n",
              "  'PetImages/Cat/2515.jpg',\n",
              "  'PetImages/Cat/10531.jpg',\n",
              "  'PetImages/Cat/2487.jpg',\n",
              "  'PetImages/Cat/7817.jpg'],\n",
              " array([0, 1, 1, 1, 0, 1, 0, 0, 0, 0]))"
            ]
          },
          "metadata": {},
          "execution_count": 18
        }
      ]
    },
    {
      "cell_type": "code",
      "source": [
        "# Augmentation\n",
        "IMG_SIZE = 224\n",
        "BATCH_SIZE = 224\n",
        "\n",
        "# Basic Transformation\n",
        "resize = tf.keras.Sequential([\n",
        "    tf.keras.layers.experimental.preprocessing.Resizing(IMG_SIZE, BATCH_SIZE)\n",
        "])\n",
        "\n",
        "# DATA Augmentation\n",
        "data_augemntation = tf.keras.Sequential([\n",
        "    tf.keras.layers.experimental.preprocessing.RandomFlip(\"horizontal\"),\n",
        "    tf.keras.layers.experimental.preprocessing.RandomRotation(0.2),\n",
        "    tf.keras.layers.experimental.preprocessing.RandomZoom(height_factor=(-0.3,-0.2))\n",
        "])"
      ],
      "metadata": {
        "id": "9g6VThQ6pP9D"
      },
      "execution_count": 19,
      "outputs": []
    },
    {
      "cell_type": "code",
      "source": [
        "# Function used to create a Tensorflow Data Object\n",
        "AUTOTUNE = tf.data.experimental.AUTOTUNE\n",
        "def get_dataset(paths , labels , train = True):\n",
        "  image_paths = tf.convert_to_tensor(paths)\n",
        "  labels = tf.convert_to_tensor(labels)\n",
        "\n",
        "  image_dataset = tf.data.Dataset.from_tensor_slices(image_paths)\n",
        "  label_dataset = tf.data.Dataset.from_tensor_slices(labels)\n",
        "  \n",
        "  dataset = tf.data.Dataset.zip((image_dataset , label_dataset))\n",
        "\n",
        "  dataset = dataset.map(lambda image, label : load (image , label))\n",
        "  dataset = dataset.map(lambda image, label: (resize(image), label), num_parallel_calls=2)\n",
        "  dataset = dataset.shuffle(1000)\n",
        "  dataset = dataset.batch(BATCH_SIZE)\n",
        "  if train:\n",
        "    dataset = dataset.map(lambda image, label: (data_augemntation(image), label), num_parallel_calls=2)\n",
        "    dataset = dataset.repeat()\n",
        "  return dataset"
      ],
      "metadata": {
        "id": "BfnESJpxrTMp"
      },
      "execution_count": 20,
      "outputs": []
    },
    {
      "cell_type": "code",
      "source": [
        "AUTOTUNE = tf.data.experimental.AUTOTUNE\n",
        "print(AUTOTUNE)"
      ],
      "metadata": {
        "colab": {
          "base_uri": "https://localhost:8080/"
        },
        "id": "u6eWhzpW7ikc",
        "outputId": "d29418ac-ce4a-4b9b-db2e-881b1b6e82e5"
      },
      "execution_count": 21,
      "outputs": [
        {
          "output_type": "stream",
          "name": "stdout",
          "text": [
            "-1\n"
          ]
        }
      ]
    },
    {
      "cell_type": "code",
      "source": [
        "%time train_dataset = get_dataset(Train_paths, Train_labels)\n",
        "\n",
        "image, label = next(iter(train_dataset))\n",
        "print(image.shape)\n",
        "print(label.shape)"
      ],
      "metadata": {
        "colab": {
          "base_uri": "https://localhost:8080/"
        },
        "id": "TuZFV3imsopW",
        "outputId": "f0536220-8b0d-4083-c95a-f0a8b8bb5b4f"
      },
      "execution_count": 22,
      "outputs": [
        {
          "output_type": "stream",
          "name": "stdout",
          "text": [
            "CPU times: user 568 ms, sys: 31.4 ms, total: 599 ms\n",
            "Wall time: 700 ms\n",
            "(224, 224, 224, 3)\n",
            "(224,)\n"
          ]
        }
      ]
    },
    {
      "cell_type": "code",
      "source": [
        "%time val_dataset = get_dataset(Val_paths, Val_labels, train=False)\n",
        "\n",
        "image, label = next(iter(val_dataset))\n",
        "print(image.shape)\n",
        "print(label.shape)"
      ],
      "metadata": {
        "colab": {
          "base_uri": "https://localhost:8080/"
        },
        "id": "l0Y1cPmbuhfx",
        "outputId": "132af4a0-0ef4-45de-dfcd-f43c0424a09b"
      },
      "execution_count": 23,
      "outputs": [
        {
          "output_type": "stream",
          "name": "stdout",
          "text": [
            "CPU times: user 22.4 ms, sys: 0 ns, total: 22.4 ms\n",
            "Wall time: 23 ms\n",
            "(224, 224, 224, 3)\n",
            "(224,)\n"
          ]
        }
      ]
    },
    {
      "cell_type": "code",
      "source": [
        "# Model part\n",
        "# CNN architecture inspered by GoogleNets 2014\n",
        "from tensorflow.keras.models import Sequential\n",
        "from tensorflow.keras.layers import Dense, Activation, Conv2D, MaxPooling2D, Flatten, Dropout, BatchNormalization, GlobalMaxPool2D\n",
        "\n",
        "model = Sequential()\n",
        "\n",
        "# Block 1\n",
        "model.add(Conv2D(input_shape=(224, 224,3), padding=\"same\", filters=32, kernel_size=(7, 7)))\n",
        "model.add(Activation('relu'))\n",
        "model.add(BatchNormalization())\n",
        "model.add(MaxPooling2D(pool_size=(2, 2)))\n",
        "model.add(Dropout(0.2))\n",
        "\n",
        "# Block 2\n",
        "model.add(Conv2D(filters=64, padding=\"valid\", kernel_size=(5, 5)))\n",
        "model.add(Activation('relu'))\n",
        "model.add(BatchNormalization())\n",
        "model.add(MaxPooling2D(pool_size=(2, 2)))\n",
        "model.add(Dropout(0.2))\n",
        "\n",
        "# Block 3\n",
        "model.add(Conv2D(filters=128, padding=\"valid\", kernel_size=(5, 5)))\n",
        "model.add(Activation('relu'))\n",
        "model.add(BatchNormalization())\n",
        "model.add(MaxPooling2D(pool_size=(2, 2)))\n",
        "model.add(Dropout(0.2))\n",
        "\n",
        "\n",
        "# Block 4\n",
        "model.add(Conv2D(filters=256, kernel_size=(3, 3)))\n",
        "model.add(Activation('relu'))\n",
        "model.add(BatchNormalization())\n",
        "model.add(MaxPooling2D(pool_size=(2, 2)))\n",
        "model.add(Dropout(0.2))\n",
        "\n",
        "model.add(GlobalMaxPool2D())\n",
        "\n",
        "model.add(Dense(units=256))\n",
        "model.add(Activation('relu'))\n",
        "model.add(Dropout(0.2))\n",
        "\n",
        "model.add(Dense(units=1))\n",
        "model.add(Activation('sigmoid'))\n"
      ],
      "metadata": {
        "id": "EmRVAkcXvCHc"
      },
      "execution_count": 24,
      "outputs": []
    },
    {
      "cell_type": "code",
      "source": [
        "print(model.summary())"
      ],
      "metadata": {
        "colab": {
          "base_uri": "https://localhost:8080/"
        },
        "id": "vkHDprUNyQk1",
        "outputId": "16f69cde-78c3-4356-9937-3c1554880e58"
      },
      "execution_count": 25,
      "outputs": [
        {
          "output_type": "stream",
          "name": "stdout",
          "text": [
            "Model: \"sequential_2\"\n",
            "_________________________________________________________________\n",
            " Layer (type)                Output Shape              Param #   \n",
            "=================================================================\n",
            " conv2d (Conv2D)             (None, 224, 224, 32)      4736      \n",
            "                                                                 \n",
            " activation (Activation)     (None, 224, 224, 32)      0         \n",
            "                                                                 \n",
            " batch_normalization (BatchN  (None, 224, 224, 32)     128       \n",
            " ormalization)                                                   \n",
            "                                                                 \n",
            " max_pooling2d (MaxPooling2D  (None, 112, 112, 32)     0         \n",
            " )                                                               \n",
            "                                                                 \n",
            " dropout (Dropout)           (None, 112, 112, 32)      0         \n",
            "                                                                 \n",
            " conv2d_1 (Conv2D)           (None, 108, 108, 64)      51264     \n",
            "                                                                 \n",
            " activation_1 (Activation)   (None, 108, 108, 64)      0         \n",
            "                                                                 \n",
            " batch_normalization_1 (Batc  (None, 108, 108, 64)     256       \n",
            " hNormalization)                                                 \n",
            "                                                                 \n",
            " max_pooling2d_1 (MaxPooling  (None, 54, 54, 64)       0         \n",
            " 2D)                                                             \n",
            "                                                                 \n",
            " dropout_1 (Dropout)         (None, 54, 54, 64)        0         \n",
            "                                                                 \n",
            " conv2d_2 (Conv2D)           (None, 50, 50, 128)       204928    \n",
            "                                                                 \n",
            " activation_2 (Activation)   (None, 50, 50, 128)       0         \n",
            "                                                                 \n",
            " batch_normalization_2 (Batc  (None, 50, 50, 128)      512       \n",
            " hNormalization)                                                 \n",
            "                                                                 \n",
            " max_pooling2d_2 (MaxPooling  (None, 25, 25, 128)      0         \n",
            " 2D)                                                             \n",
            "                                                                 \n",
            " dropout_2 (Dropout)         (None, 25, 25, 128)       0         \n",
            "                                                                 \n",
            " conv2d_3 (Conv2D)           (None, 23, 23, 256)       295168    \n",
            "                                                                 \n",
            " activation_3 (Activation)   (None, 23, 23, 256)       0         \n",
            "                                                                 \n",
            " batch_normalization_3 (Batc  (None, 23, 23, 256)      1024      \n",
            " hNormalization)                                                 \n",
            "                                                                 \n",
            " max_pooling2d_3 (MaxPooling  (None, 11, 11, 256)      0         \n",
            " 2D)                                                             \n",
            "                                                                 \n",
            " dropout_3 (Dropout)         (None, 11, 11, 256)       0         \n",
            "                                                                 \n",
            " global_max_pooling2d (Globa  (None, 256)              0         \n",
            " lMaxPooling2D)                                                  \n",
            "                                                                 \n",
            " dense (Dense)               (None, 256)               65792     \n",
            "                                                                 \n",
            " activation_4 (Activation)   (None, 256)               0         \n",
            "                                                                 \n",
            " dropout_4 (Dropout)         (None, 256)               0         \n",
            "                                                                 \n",
            " dense_1 (Dense)             (None, 1)                 257       \n",
            "                                                                 \n",
            " activation_5 (Activation)   (None, 1)                 0         \n",
            "                                                                 \n",
            "=================================================================\n",
            "Total params: 624,065\n",
            "Trainable params: 623,105\n",
            "Non-trainable params: 960\n",
            "_________________________________________________________________\n",
            "None\n"
          ]
        }
      ]
    },
    {
      "cell_type": "code",
      "source": [
        "model.compile(\n",
        "    loss='binary_crossentropy',\n",
        "    optimizer='adam',\n",
        "    metrics='accuracy'\n",
        ")"
      ],
      "metadata": {
        "id": "hjcyiGE2zXwl"
      },
      "execution_count": 26,
      "outputs": []
    },
    {
      "cell_type": "code",
      "source": [
        "# Train the model\n",
        "history = model.fit(\n",
        "    train_dataset,\n",
        "    steps_per_epoch=len(Train_paths)// BATCH_SIZE,\n",
        "    epochs=10,\n",
        "    validation_data=val_dataset,\n",
        "    validation_steps = len(Val_paths)//BATCH_SIZE\n",
        ")"
      ],
      "metadata": {
        "colab": {
          "base_uri": "https://localhost:8080/"
        },
        "id": "ECGxPgKWzt7V",
        "outputId": "f2c0522e-dc1f-4bfe-f914-ddb6c88d0468"
      },
      "execution_count": 27,
      "outputs": [
        {
          "output_type": "stream",
          "name": "stdout",
          "text": [
            "Epoch 1/10\n",
            "83/83 [==============================] - 193s 2s/step - loss: 0.9856 - accuracy: 0.5692 - val_loss: 0.7206 - val_accuracy: 0.5620\n",
            "Epoch 2/10\n",
            "83/83 [==============================] - 173s 2s/step - loss: 0.6202 - accuracy: 0.6587 - val_loss: 0.6302 - val_accuracy: 0.6242\n",
            "Epoch 3/10\n",
            "83/83 [==============================] - 173s 2s/step - loss: 0.5867 - accuracy: 0.6907 - val_loss: 0.7281 - val_accuracy: 0.5332\n",
            "Epoch 4/10\n",
            "83/83 [==============================] - 170s 2s/step - loss: 0.5652 - accuracy: 0.7102 - val_loss: 0.8406 - val_accuracy: 0.5050\n",
            "Epoch 5/10\n",
            "83/83 [==============================] - 170s 2s/step - loss: 0.5531 - accuracy: 0.7178 - val_loss: 0.7931 - val_accuracy: 0.5144\n",
            "Epoch 6/10\n",
            "83/83 [==============================] - 169s 2s/step - loss: 0.5443 - accuracy: 0.7216 - val_loss: 0.7964 - val_accuracy: 0.5450\n",
            "Epoch 7/10\n",
            "83/83 [==============================] - 170s 2s/step - loss: 0.5282 - accuracy: 0.7372 - val_loss: 0.6993 - val_accuracy: 0.5599\n",
            "Epoch 8/10\n",
            "83/83 [==============================] - 170s 2s/step - loss: 0.5114 - accuracy: 0.7480 - val_loss: 0.6800 - val_accuracy: 0.5866\n",
            "Epoch 9/10\n",
            "83/83 [==============================] - 169s 2s/step - loss: 0.4906 - accuracy: 0.7632 - val_loss: 0.6161 - val_accuracy: 0.6551\n",
            "Epoch 10/10\n",
            "83/83 [==============================] - 169s 2s/step - loss: 0.4655 - accuracy: 0.7775 - val_loss: 0.6765 - val_accuracy: 0.5979\n"
          ]
        }
      ]
    }
  ]
}